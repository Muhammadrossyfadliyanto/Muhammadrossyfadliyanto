{
  "nbformat": 4,
  "nbformat_minor": 0,
  "metadata": {
    "colab": {
      "provenance": [],
      "authorship_tag": "ABX9TyOvvbkzPm3lZ0sOzCldAato",
      "include_colab_link": true
    },
    "kernelspec": {
      "name": "python3",
      "display_name": "Python 3"
    },
    "language_info": {
      "name": "python"
    }
  },
  "cells": [
    {
      "cell_type": "markdown",
      "metadata": {
        "id": "view-in-github",
        "colab_type": "text"
      },
      "source": [
        "<a href=\"https://colab.research.google.com/github/Muhammadrossyfadliyanto/Muhammadrossyfadliyanto/blob/main/Tugas_percabangan.ipynb\" target=\"_parent\"><img src=\"https://colab.research.google.com/assets/colab-badge.svg\" alt=\"Open In Colab\"/></a>"
      ]
    },
    {
      "cell_type": "markdown",
      "source": [
        "tugas percabangan"
      ],
      "metadata": {
        "id": "o_2ZS1LofIY0"
      }
    },
    {
      "cell_type": "code",
      "source": [
        "#penentuan diskon berdasarkan jumlah pembelian\n",
        "\n",
        "jumlah_pembelian = int(input('masukan harga:'))\n",
        "\n",
        "if jumlah_pembelian <= 100000:\n",
        "  print(\"tidak ada diskon'\")\n",
        "elif jumlah_pembelian  <= 5000000:\n",
        "  print(\"diskon 10%\")\n",
        "else :\n",
        "  print(\"diskon 20%\")"
      ],
      "metadata": {
        "colab": {
          "base_uri": "https://localhost:8080/"
        },
        "id": "bxJRLmQ0fLZD",
        "outputId": "e61b1850-3f07-47a7-a690-92f58f69ddea"
      },
      "execution_count": 5,
      "outputs": [
        {
          "output_type": "stream",
          "name": "stdout",
          "text": [
            "masukan harga:700\n",
            "tidak ada diskon'\n"
          ]
        }
      ]
    },
    {
      "cell_type": "code",
      "source": [
        "#progam untuk mengelompokkan umur\n",
        "umur = int(input('masukan umur: '))\n",
        "\n",
        "if umur <= 12:\n",
        "  print(\"anak anak\")\n",
        "elif  umur <= 17:\n",
        "  print(\"remaja\")\n",
        "elif  umur <= 64:\n",
        "  print(\"dewasa\")\n",
        "else :\n",
        "  print(\"lansia\")"
      ],
      "metadata": {
        "colab": {
          "base_uri": "https://localhost:8080/"
        },
        "id": "ASlrcF9zgPWV",
        "outputId": "8aede612-3e1d-41ac-9e4b-b310d04598db"
      },
      "execution_count": 6,
      "outputs": [
        {
          "output_type": "stream",
          "name": "stdout",
          "text": [
            "masukan umur: 13\n",
            "remaja\n"
          ]
        }
      ]
    },
    {
      "cell_type": "code",
      "source": [
        "# nilai siswa\n",
        "nilai = int(input('masukan nilai'))\n",
        "\n",
        "if nilai >= 90:\n",
        "  print(\"sangat baik\")\n",
        "elif nilai >= 70:\n",
        "  print(\"bagus\")\n",
        "else :\n",
        "  print(\"kurang bagus\")"
      ],
      "metadata": {
        "colab": {
          "base_uri": "https://localhost:8080/"
        },
        "id": "H0vTT58kgyOC",
        "outputId": "4886ed55-b8ee-44bb-9724-508c075ca9e6"
      },
      "execution_count": 7,
      "outputs": [
        {
          "output_type": "stream",
          "name": "stdout",
          "text": [
            "masukan nilai97\n",
            "sangat baik\n"
          ]
        }
      ]
    },
    {
      "cell_type": "code",
      "source": [
        "# tahun\n",
        "a = int(input(\"masukan tahun: \"))\n",
        "if a % 4 == 0:\n",
        " if a % 100 == 0:\n",
        "  if a % 400 == 0:\n",
        "    print(\"tahun karbit\")\n",
        "else :\n",
        "  print(\"bukan tahun karbit\")"
      ],
      "metadata": {
        "colab": {
          "base_uri": "https://localhost:8080/"
        },
        "id": "afxq_S60hEzx",
        "outputId": "addf9467-b919-44b9-e20b-00ed81700d77"
      },
      "execution_count": 8,
      "outputs": [
        {
          "output_type": "stream",
          "name": "stdout",
          "text": [
            "masukan tahun: 1945\n",
            "bukan tahun karbit\n"
          ]
        }
      ]
    },
    {
      "cell_type": "code",
      "source": [
        "# kalkulator\n",
        "a = int(input(\"Masukkan angka pertama: \"))\n",
        "b = int(input(\"Masukkan angka kedua: \"))\n",
        "c = input(\"Masukkan operasi: \")\n",
        "if c == \"+\":\n",
        "  print(a+b)\n",
        "elif c == \"-\":\n",
        "  print(a-b)\n",
        "elif c == \"*\":\n",
        "  print(a*b)\n",
        "elif c == \"/\":\n",
        "  print(a/b)\n",
        "else:\n",
        "  print(\"operasi tidak valid\")"
      ],
      "metadata": {
        "colab": {
          "base_uri": "https://localhost:8080/"
        },
        "id": "_l8A0ItnhQ39",
        "outputId": "e4b4e2d0-4050-49d6-8b31-305ce825370b"
      },
      "execution_count": 9,
      "outputs": [
        {
          "output_type": "stream",
          "name": "stdout",
          "text": [
            "Masukkan angka pertama: 139\n",
            "Masukkan angka kedua: 150\n",
            "Masukkan operasi: /\n",
            "0.9266666666666666\n"
          ]
        }
      ]
    }
  ]
}