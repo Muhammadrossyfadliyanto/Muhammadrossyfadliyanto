{
  "nbformat": 4,
  "nbformat_minor": 0,
  "metadata": {
    "colab": {
      "provenance": [],
      "authorship_tag": "ABX9TyOCm2DbfkDtAtTAEoTeDhn7",
      "include_colab_link": true
    },
    "kernelspec": {
      "name": "python3",
      "display_name": "Python 3"
    },
    "language_info": {
      "name": "python"
    }
  },
  "cells": [
    {
      "cell_type": "markdown",
      "metadata": {
        "id": "view-in-github",
        "colab_type": "text"
      },
      "source": [
        "<a href=\"https://colab.research.google.com/github/Muhammadrossyfadliyanto/Muhammadrossyfadliyanto/blob/main/Contoh.ipynb\" target=\"_parent\"><img src=\"https://colab.research.google.com/assets/colab-badge.svg\" alt=\"Open In Colab\"/></a>"
      ]
    },
    {
      "cell_type": "markdown",
      "source": [
        "1.int=untuk mendeklarasikan angka ( 0_9\n",
        "2.string=untuk mendeklarasikan huruf (a_z dan karakter)\n",
        "3.float=untuk mendeklarasikan desimal(1, 2,1,3"
      ],
      "metadata": {
        "id": "bXdEK2bXeKU_"
      }
    },
    {
      "cell_type": "code",
      "source": [
        "#contoh 1\n",
        "a=7\n",
        "b=5\n",
        "c=a+b\n",
        "print(c)\n",
        "\n",
        "#contoh 2\n",
        "a='7'\n",
        "b='5'\n",
        "c=a+b\n",
        "print(c)\n",
        "\n",
        "#contoh 3\n",
        "a=1.2\n",
        "b=1.3\n",
        "c=a+b\n",
        "print(c)"
      ],
      "metadata": {
        "colab": {
          "base_uri": "https://localhost:8080/"
        },
        "id": "dEoQlBebeKc_",
        "outputId": "65691976-97b6-4d0e-8f94-d85755c633f7"
      },
      "execution_count": null,
      "outputs": [
        {
          "output_type": "stream",
          "name": "stdout",
          "text": [
            "12\n",
            "75\n",
            "2.5\n"
          ]
        }
      ]
    },
    {
      "cell_type": "code",
      "source": [],
      "metadata": {
        "id": "_cGh37K0kpWE"
      },
      "execution_count": null,
      "outputs": []
    }
  ]
}