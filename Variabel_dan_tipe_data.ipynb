{
  "nbformat": 4,
  "nbformat_minor": 0,
  "metadata": {
    "colab": {
      "provenance": [],
      "authorship_tag": "ABX9TyNDIg0yQ5rpMRGW7VM3jmN/",
      "include_colab_link": true
    },
    "kernelspec": {
      "name": "python3",
      "display_name": "Python 3"
    },
    "language_info": {
      "name": "python"
    }
  },
  "cells": [
    {
      "cell_type": "markdown",
      "metadata": {
        "id": "view-in-github",
        "colab_type": "text"
      },
      "source": [
        "<a href=\"https://colab.research.google.com/github/Muhammadrossyfadliyanto/Muhammadrossyfadliyanto/blob/main/Variabel_dan_tipe_data.ipynb\" target=\"_parent\"><img src=\"https://colab.research.google.com/assets/colab-badge.svg\" alt=\"Open In Colab\"/></a>"
      ]
    },
    {
      "cell_type": "markdown",
      "source": [
        "OPERATOR ARITMATIKA\n",
        "\n",
        "1.penjumlahan=+\n",
        "\n",
        "2.pengurangan=•\n",
        "\n",
        "3.perkalian=*\n",
        "\n",
        "4.pembagian=/\n",
        "\n",
        "5.perpangkatan=^\n",
        "\n",
        "6.modulus(persen)=%"
      ],
      "metadata": {
        "id": "cR0FZybe7cOX"
      }
    },
    {
      "cell_type": "code",
      "source": [
        "#contoh pertambahan\n",
        "a=7\n",
        "b=5\n",
        "c=a+b\n",
        "print (c)"
      ],
      "metadata": {
        "colab": {
          "base_uri": "https://localhost:8080/"
        },
        "id": "p4pGJOI2-IG6",
        "outputId": "cabe2379-67ab-4a18-d15a-8b8b8b500bbc"
      },
      "execution_count": 2,
      "outputs": [
        {
          "output_type": "stream",
          "name": "stdout",
          "text": [
            "12\n"
          ]
        }
      ]
    },
    {
      "cell_type": "code",
      "source": [
        "#contoh pengurangan\n",
        "a=7\n",
        "b=5\n",
        "c=a-b\n",
        "print (c)"
      ],
      "metadata": {
        "colab": {
          "base_uri": "https://localhost:8080/"
        },
        "id": "68pDQWRB_TOX",
        "outputId": "948fe5df-407a-4d62-e1a9-05fcfa8e10cc"
      },
      "execution_count": 3,
      "outputs": [
        {
          "output_type": "stream",
          "name": "stdout",
          "text": [
            "2\n"
          ]
        }
      ]
    },
    {
      "cell_type": "code",
      "source": [
        "#contoh perkalian\n",
        "a=7\n",
        "b=5\n",
        "C=a*b\n",
        "print (c)"
      ],
      "metadata": {
        "colab": {
          "base_uri": "https://localhost:8080/"
        },
        "id": "JHMna0ba_xsb",
        "outputId": "21c427c9-8408-43f6-c937-78f6277f6bfd"
      },
      "execution_count": 4,
      "outputs": [
        {
          "output_type": "stream",
          "name": "stdout",
          "text": [
            "2\n"
          ]
        }
      ]
    },
    {
      "cell_type": "code",
      "source": [
        "#contoh pembagian\n",
        "a=7\n",
        "b=5\n",
        "c=a/b\n",
        "print (c)"
      ],
      "metadata": {
        "colab": {
          "base_uri": "https://localhost:8080/"
        },
        "id": "yVmQyeHjAvtO",
        "outputId": "4477a786-465f-4c49-9d56-282e3cd9bf17"
      },
      "execution_count": 5,
      "outputs": [
        {
          "output_type": "stream",
          "name": "stdout",
          "text": [
            "1.4\n"
          ]
        }
      ]
    },
    {
      "cell_type": "code",
      "source": [
        "#contoh perpangkatan\n",
        "a=7\n",
        "b=5\n",
        "c=a^b\n",
        "print (c)"
      ],
      "metadata": {
        "colab": {
          "base_uri": "https://localhost:8080/"
        },
        "id": "dzTW1PZGBYAk",
        "outputId": "39eb003d-8e45-4ba4-8fdf-04ed5b3b8364"
      },
      "execution_count": 6,
      "outputs": [
        {
          "output_type": "stream",
          "name": "stdout",
          "text": [
            "2\n"
          ]
        }
      ]
    },
    {
      "cell_type": "code",
      "source": [
        "#contoh modulus (persen)\n",
        "a=7\n",
        "b=5\n",
        "c=a%b\n",
        "print (c)"
      ],
      "metadata": {
        "colab": {
          "base_uri": "https://localhost:8080/"
        },
        "id": "gFViiY7dBwGe",
        "outputId": "9c58d12a-cf41-43cc-d27e-6b1cc4d1a41c"
      },
      "execution_count": 7,
      "outputs": [
        {
          "output_type": "stream",
          "name": "stdout",
          "text": [
            "2\n"
          ]
        }
      ]
    }
  ]
}